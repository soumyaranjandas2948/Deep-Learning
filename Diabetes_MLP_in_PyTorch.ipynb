{
  "nbformat": 4,
  "nbformat_minor": 0,
  "metadata": {
    "colab": {
      "provenance": [],
      "gpuType": "T4"
    },
    "kernelspec": {
      "name": "python3",
      "display_name": "Python 3"
    },
    "language_info": {
      "name": "python"
    },
    "accelerator": "GPU"
  },
  "cells": [
    {
      "cell_type": "code",
      "execution_count": 76,
      "metadata": {
        "id": "sAnj_EwpvDU0"
      },
      "outputs": [],
      "source": [
        "import torch\n",
        "from torch import nn, optim\n",
        "from torch.utils.data import Dataset, DataLoader\n",
        "import numpy as np\n",
        "import pandas as pd\n",
        "import matplotlib.pyplot as plt\n",
        "from collections import OrderedDict\n",
        "\n",
        "device = torch.device(\"cuda\" if torch.cuda.is_available() else \"cpu\")"
      ]
    },
    {
      "cell_type": "code",
      "source": [
        "device"
      ],
      "metadata": {
        "id": "JiAQXqjdvdkT",
        "colab": {
          "base_uri": "https://localhost:8080/"
        },
        "outputId": "be02eda2-a918-4bb1-f08d-ba956e8b984c"
      },
      "execution_count": 77,
      "outputs": [
        {
          "output_type": "execute_result",
          "data": {
            "text/plain": [
              "device(type='cuda')"
            ]
          },
          "metadata": {},
          "execution_count": 77
        }
      ]
    },
    {
      "cell_type": "code",
      "source": [
        "df = pd.read_csv('/content/diabetes.csv')"
      ],
      "metadata": {
        "id": "uDzdP95ivpYE"
      },
      "execution_count": 78,
      "outputs": []
    },
    {
      "cell_type": "code",
      "source": [
        "df.dropna(inplace = True)"
      ],
      "metadata": {
        "id": "BLxL1MbIv-Mf"
      },
      "execution_count": 79,
      "outputs": []
    },
    {
      "cell_type": "code",
      "source": [
        "print(len(df))"
      ],
      "metadata": {
        "id": "kECQjhgrwF8T",
        "colab": {
          "base_uri": "https://localhost:8080/"
        },
        "outputId": "3609529d-6306-4a2f-f751-1fe3874eb564"
      },
      "execution_count": 80,
      "outputs": [
        {
          "output_type": "stream",
          "name": "stdout",
          "text": [
            "768\n"
          ]
        }
      ]
    },
    {
      "cell_type": "code",
      "source": [
        "print(df.head())"
      ],
      "metadata": {
        "id": "rFrpGei7wSJe",
        "colab": {
          "base_uri": "https://localhost:8080/"
        },
        "outputId": "ceb7a4e0-bede-4657-dd6a-4be73cd01460"
      },
      "execution_count": 81,
      "outputs": [
        {
          "output_type": "stream",
          "name": "stdout",
          "text": [
            "   Pregnancies  Glucose  BloodPressure  SkinThickness  Insulin   BMI  \\\n",
            "0            6      148             72             35        0  33.6   \n",
            "1            1       85             66             29        0  26.6   \n",
            "2            8      183             64              0        0  23.3   \n",
            "3            1       89             66             23       94  28.1   \n",
            "4            0      137             40             35      168  43.1   \n",
            "\n",
            "   DiabetesPedigreeFunction  Age  Outcome  \n",
            "0                     0.627   50        1  \n",
            "1                     0.351   31        0  \n",
            "2                     0.672   32        1  \n",
            "3                     0.167   21        0  \n",
            "4                     2.288   33        1  \n"
          ]
        }
      ]
    },
    {
      "cell_type": "code",
      "source": [
        "class DiabetesDataset(Dataset):\n",
        "  def __init__(self,split = 'Train'):\n",
        "    super(DiabetesDataset, self).__init__()\n",
        "    df = pd.read_csv('/content/diabetes.csv').dropna().sample(frac = 1)\n",
        "\n",
        "    self.df_x = df[['Pregnancies', 'Glucose', 'BloodPressure', 'SkinThickness', 'Insulin',\n",
        "       'BMI', 'DiabetesPedigreeFunction', 'Age']]\n",
        "    self.df_x[[\"Glucose\", \"BloodPressure\", \"Insulin\"]] /= 100\n",
        "    self.df_x[[\"BMI\", \"Age\", \"SkinThickness\", \"Pregnancies\"]] /= 10\n",
        "    self.df_y = df[['Outcome']]\n",
        "\n",
        "    if split == 'Train':\n",
        "      self.x = torch.from_numpy(self.df_x[0:650].to_numpy()).type(torch.FloatTensor)\n",
        "      self.y = torch.from_numpy(self.df_y[0:650].to_numpy()).type(torch.LongTensor).squeeze(1)\n",
        "      self.len = self.x.shape[0]\n",
        "    elif split == 'Validation':\n",
        "      self.x = torch.from_numpy(self.df_x[650:710].to_numpy()).type(torch.FloatTensor)\n",
        "      self.y = torch.from_numpy(self.df_y[650:710].to_numpy()).type(torch.LongTensor).squeeze(1)\n",
        "      self.len = self.x.shape[0]\n",
        "    elif split == 'Test':\n",
        "      self.x = torch.from_numpy(self.df_x[710:].to_numpy()).type(torch.FloatTensor)\n",
        "      self.y = torch.from_numpy(self.df_y[710:].to_numpy()).type(torch.LongTensor).squeeze(1)\n",
        "      self.len = self.x.shape[0]\n",
        "\n",
        "  def __getitem__(self,index):\n",
        "        return self.x[index],self.y[index]\n",
        "  def __len__(self):\n",
        "        return self.len\n",
        "\n",
        "\n",
        "#call method for split into train,valid and test\n",
        "train_data = DiabetesDataset(split = 'Train')\n",
        "valid_data = DiabetesDataset(split = 'Validation')\n",
        "test_data = DiabetesDataset(split = 'Test')"
      ],
      "metadata": {
        "id": "NjSo8Jn8waH7",
        "colab": {
          "base_uri": "https://localhost:8080/"
        },
        "outputId": "53046e39-ee41-4598-9ad3-cd62fa0e081c"
      },
      "execution_count": 82,
      "outputs": [
        {
          "output_type": "stream",
          "name": "stderr",
          "text": [
            "<ipython-input-82-7dd5752337ce>:8: SettingWithCopyWarning: \n",
            "A value is trying to be set on a copy of a slice from a DataFrame.\n",
            "Try using .loc[row_indexer,col_indexer] = value instead\n",
            "\n",
            "See the caveats in the documentation: https://pandas.pydata.org/pandas-docs/stable/user_guide/indexing.html#returning-a-view-versus-a-copy\n",
            "  self.df_x[[\"Glucose\", \"BloodPressure\", \"Insulin\"]] /= 100\n",
            "<ipython-input-82-7dd5752337ce>:9: SettingWithCopyWarning: \n",
            "A value is trying to be set on a copy of a slice from a DataFrame.\n",
            "Try using .loc[row_indexer,col_indexer] = value instead\n",
            "\n",
            "See the caveats in the documentation: https://pandas.pydata.org/pandas-docs/stable/user_guide/indexing.html#returning-a-view-versus-a-copy\n",
            "  self.df_x[[\"BMI\", \"Age\", \"SkinThickness\", \"Pregnancies\"]] /= 10\n",
            "<ipython-input-82-7dd5752337ce>:8: SettingWithCopyWarning: \n",
            "A value is trying to be set on a copy of a slice from a DataFrame.\n",
            "Try using .loc[row_indexer,col_indexer] = value instead\n",
            "\n",
            "See the caveats in the documentation: https://pandas.pydata.org/pandas-docs/stable/user_guide/indexing.html#returning-a-view-versus-a-copy\n",
            "  self.df_x[[\"Glucose\", \"BloodPressure\", \"Insulin\"]] /= 100\n",
            "<ipython-input-82-7dd5752337ce>:9: SettingWithCopyWarning: \n",
            "A value is trying to be set on a copy of a slice from a DataFrame.\n",
            "Try using .loc[row_indexer,col_indexer] = value instead\n",
            "\n",
            "See the caveats in the documentation: https://pandas.pydata.org/pandas-docs/stable/user_guide/indexing.html#returning-a-view-versus-a-copy\n",
            "  self.df_x[[\"BMI\", \"Age\", \"SkinThickness\", \"Pregnancies\"]] /= 10\n",
            "<ipython-input-82-7dd5752337ce>:8: SettingWithCopyWarning: \n",
            "A value is trying to be set on a copy of a slice from a DataFrame.\n",
            "Try using .loc[row_indexer,col_indexer] = value instead\n",
            "\n",
            "See the caveats in the documentation: https://pandas.pydata.org/pandas-docs/stable/user_guide/indexing.html#returning-a-view-versus-a-copy\n",
            "  self.df_x[[\"Glucose\", \"BloodPressure\", \"Insulin\"]] /= 100\n",
            "<ipython-input-82-7dd5752337ce>:9: SettingWithCopyWarning: \n",
            "A value is trying to be set on a copy of a slice from a DataFrame.\n",
            "Try using .loc[row_indexer,col_indexer] = value instead\n",
            "\n",
            "See the caveats in the documentation: https://pandas.pydata.org/pandas-docs/stable/user_guide/indexing.html#returning-a-view-versus-a-copy\n",
            "  self.df_x[[\"BMI\", \"Age\", \"SkinThickness\", \"Pregnancies\"]] /= 10\n"
          ]
        }
      ]
    },
    {
      "cell_type": "code",
      "source": [
        "#batching\n",
        "train_loader = DataLoader(train_data, batch_size = 16, shuffle = True)\n",
        "valid_loader = DataLoader(valid_data, batch_size = 10, shuffle = True)\n",
        "test_loader = DataLoader(test_data, batch_size = 1, shuffle = True)"
      ],
      "metadata": {
        "id": "-rHiCgFhx643"
      },
      "execution_count": 83,
      "outputs": []
    },
    {
      "cell_type": "code",
      "source": [
        "#Model Creation\n",
        "class DiabetesNet(nn.Module):\n",
        "  def __init__(self,input_size,num_classes):\n",
        "    super(DiabetesNet,self).__init__()\n",
        "    self.dropout = nn.Dropout(p = 0.05)\n",
        "    self.input_layer = nn.Sequential(nn.Linear(input_size,50),nn.ReLU()) # there are 50 neurons in first hidden layer that taken inputs from input layer.\n",
        "    self.h1 = nn.Sequential(nn.Linear(50,100),nn.ReLU())\n",
        "    self.h2 = nn.Sequential(nn.Linear(100,500),nn.ReLU())\n",
        "    self.h3 = nn.Sequential(nn.Linear(500, 750), nn.ReLU())\n",
        "    self.h4 = nn.Sequential(nn.Linear(750, 1000), nn.ReLU())\n",
        "    self.h5 = nn.Sequential(nn.Linear(1000, 750), nn.ReLU())\n",
        "    self.h6 = nn.Sequential(nn.Linear(750, 500), nn.ReLU())\n",
        "    self.h7 = nn.Sequential(nn.Linear(500, 100), nn.ReLU())\n",
        "    self.h8 = nn.Sequential(nn.Linear(100, 50), nn.ReLU())\n",
        "    self.h9 = nn.Sequential(nn.Linear(50, num_classes), nn.Softmax(dim = 1))\n",
        "\n",
        "\n",
        "  def forward(self, x):\n",
        "    x = self.input_layer(x)\n",
        "    x = self.h1(x)\n",
        "    x = self.h2(x)\n",
        "    x = self.h3(x)\n",
        "    x = self.h4(x)\n",
        "    x = self.h5(x)\n",
        "    x = self.h6(x)\n",
        "    x = self.h7(x)\n",
        "    x = self.h8(x)\n",
        "    x = self.h9(x)\n",
        "    return x\n"
      ],
      "metadata": {
        "id": "9KDRVblV8boI"
      },
      "execution_count": 84,
      "outputs": []
    },
    {
      "cell_type": "code",
      "source": [
        "model = DiabetesNet(8,2) #input_size = 8,num_class = 2 #and our nural network model is ready\n",
        "learning_rate = 0.0001\n",
        "epochs = 100\n",
        "criterion = nn.CrossEntropyLoss()\n",
        "optimizer = optim.Adam(model.parameters(),lr = learning_rate,weight_decay = 0.000001)\n",
        "min_loss = np.inf\n",
        "training_losses,valid_losses,accs = [],[],[]\n",
        "model.to(device)"
      ],
      "metadata": {
        "id": "YMbhHyk8Fwn4",
        "colab": {
          "base_uri": "https://localhost:8080/"
        },
        "outputId": "cb5b1eaf-9283-4332-fcb3-eb20c0fbfeb0"
      },
      "execution_count": 85,
      "outputs": [
        {
          "output_type": "execute_result",
          "data": {
            "text/plain": [
              "DiabetesNet(\n",
              "  (dropout): Dropout(p=0.05, inplace=False)\n",
              "  (input_layer): Sequential(\n",
              "    (0): Linear(in_features=8, out_features=50, bias=True)\n",
              "    (1): ReLU()\n",
              "  )\n",
              "  (h1): Sequential(\n",
              "    (0): Linear(in_features=50, out_features=100, bias=True)\n",
              "    (1): ReLU()\n",
              "  )\n",
              "  (h2): Sequential(\n",
              "    (0): Linear(in_features=100, out_features=500, bias=True)\n",
              "    (1): ReLU()\n",
              "  )\n",
              "  (h3): Sequential(\n",
              "    (0): Linear(in_features=500, out_features=750, bias=True)\n",
              "    (1): ReLU()\n",
              "  )\n",
              "  (h4): Sequential(\n",
              "    (0): Linear(in_features=750, out_features=1000, bias=True)\n",
              "    (1): ReLU()\n",
              "  )\n",
              "  (h5): Sequential(\n",
              "    (0): Linear(in_features=1000, out_features=750, bias=True)\n",
              "    (1): ReLU()\n",
              "  )\n",
              "  (h6): Sequential(\n",
              "    (0): Linear(in_features=750, out_features=500, bias=True)\n",
              "    (1): ReLU()\n",
              "  )\n",
              "  (h7): Sequential(\n",
              "    (0): Linear(in_features=500, out_features=100, bias=True)\n",
              "    (1): ReLU()\n",
              "  )\n",
              "  (h8): Sequential(\n",
              "    (0): Linear(in_features=100, out_features=50, bias=True)\n",
              "    (1): ReLU()\n",
              "  )\n",
              "  (h9): Sequential(\n",
              "    (0): Linear(in_features=50, out_features=2, bias=True)\n",
              "    (1): Softmax(dim=1)\n",
              "  )\n",
              ")"
            ]
          },
          "metadata": {},
          "execution_count": 85
        }
      ]
    },
    {
      "cell_type": "code",
      "source": [
        "def train(min_loss):\n",
        "    for epoch in range(epochs):\n",
        "        training_loss = 0\n",
        "        model.train()\n",
        "        for x, y in train_loader:\n",
        "            optimizer.zero_grad()\n",
        "            x, y = x.to(device), y.to(device)\n",
        "            yhat = model(x) #This is the forward pass of the neural network.\n",
        "            loss = criterion(yhat, y)\n",
        "            loss.backward()\n",
        "            optimizer.step()\n",
        "\n",
        "            training_loss += loss.item()\n",
        "\n",
        "        training_losses.append(training_loss)\n",
        "\n",
        "        valid_loss = 0\n",
        "        acc = 0\n",
        "        model.eval()\n",
        "        with torch.no_grad():\n",
        "            for x, y in valid_loader:\n",
        "                x, y = x.to(device), y.to(device)\n",
        "                yhat = model(x)\n",
        "                loss = criterion(yhat, y)\n",
        "                valid_loss += loss.item()\n",
        "\n",
        "                _, top_class = yhat.topk(1, dim = 1)\n",
        "                eq = top_class == y.view(-1, 1)\n",
        "                acc += eq.sum().item()\n",
        "\n",
        "            valid_losses.append(valid_loss)\n",
        "            accs.append((acc/len(valid_data)) * 100)\n",
        "\n",
        "        print(\"Epoch: {}.. \\tTraining Loss: {:.5f}.. \\tValid Loss: {:.5f}.. \\tAccuracy: {:.2f}%..\".format(epoch + 1, training_loss, valid_loss, (acc/len(valid_data)) * 100))\n",
        "\n",
        "        if valid_loss <= min_loss:\n",
        "            print(\"Saving Model {:.4f} ---> {:.4f}\".format(min_loss, valid_loss))\n",
        "            save_obj = OrderedDict([\n",
        "                (\"model\", model.state_dict()),\n",
        "                (\"min_loss\", min_loss),\n",
        "                (\"learning_rate\", learning_rate)\n",
        "            ])\n",
        "            torch.save(save_obj,  \"diabetes2.pt\")\n",
        "            min_loss = valid_loss\n"
      ],
      "metadata": {
        "id": "pFcpha62M2pO"
      },
      "execution_count": 86,
      "outputs": []
    },
    {
      "cell_type": "code",
      "source": [
        "train(min_loss)"
      ],
      "metadata": {
        "id": "EvqtxVxKN2rj",
        "colab": {
          "base_uri": "https://localhost:8080/"
        },
        "outputId": "396cf49f-a374-45b8-bd9f-f2682ae8891f"
      },
      "execution_count": 87,
      "outputs": [
        {
          "output_type": "stream",
          "name": "stdout",
          "text": [
            "Epoch: 1.. \tTraining Loss: 27.74931.. \tValid Loss: 4.06618.. \tAccuracy: 60.00%..\n",
            "Saving Model inf ---> 4.0662\n",
            "Epoch: 2.. \tTraining Loss: 27.15326.. \tValid Loss: 4.03900.. \tAccuracy: 60.00%..\n",
            "Saving Model 4.0662 ---> 4.0390\n",
            "Epoch: 3.. \tTraining Loss: 26.66601.. \tValid Loss: 3.95186.. \tAccuracy: 60.00%..\n",
            "Saving Model 4.0390 ---> 3.9519\n",
            "Epoch: 4.. \tTraining Loss: 25.73764.. \tValid Loss: 4.02423.. \tAccuracy: 60.00%..\n",
            "Epoch: 5.. \tTraining Loss: 24.69252.. \tValid Loss: 3.66534.. \tAccuracy: 61.67%..\n",
            "Saving Model 3.9519 ---> 3.6653\n",
            "Epoch: 6.. \tTraining Loss: 23.72297.. \tValid Loss: 3.52490.. \tAccuracy: 70.00%..\n",
            "Saving Model 3.6653 ---> 3.5249\n",
            "Epoch: 7.. \tTraining Loss: 23.39784.. \tValid Loss: 3.64853.. \tAccuracy: 70.00%..\n",
            "Epoch: 8.. \tTraining Loss: 23.71372.. \tValid Loss: 3.44200.. \tAccuracy: 71.67%..\n",
            "Saving Model 3.5249 ---> 3.4420\n",
            "Epoch: 9.. \tTraining Loss: 22.33411.. \tValid Loss: 3.33474.. \tAccuracy: 75.00%..\n",
            "Saving Model 3.4420 ---> 3.3347\n",
            "Epoch: 10.. \tTraining Loss: 21.99972.. \tValid Loss: 3.38369.. \tAccuracy: 73.33%..\n",
            "Epoch: 11.. \tTraining Loss: 21.68835.. \tValid Loss: 3.36782.. \tAccuracy: 75.00%..\n",
            "Epoch: 12.. \tTraining Loss: 22.38523.. \tValid Loss: 3.43831.. \tAccuracy: 70.00%..\n",
            "Epoch: 13.. \tTraining Loss: 21.61885.. \tValid Loss: 3.37406.. \tAccuracy: 73.33%..\n",
            "Epoch: 14.. \tTraining Loss: 21.36977.. \tValid Loss: 3.32905.. \tAccuracy: 75.00%..\n",
            "Saving Model 3.3347 ---> 3.3291\n",
            "Epoch: 15.. \tTraining Loss: 21.31001.. \tValid Loss: 3.34082.. \tAccuracy: 75.00%..\n",
            "Epoch: 16.. \tTraining Loss: 21.18634.. \tValid Loss: 3.18201.. \tAccuracy: 78.33%..\n",
            "Saving Model 3.3291 ---> 3.1820\n",
            "Epoch: 17.. \tTraining Loss: 21.46071.. \tValid Loss: 3.21198.. \tAccuracy: 76.67%..\n",
            "Epoch: 18.. \tTraining Loss: 21.68764.. \tValid Loss: 3.18322.. \tAccuracy: 78.33%..\n",
            "Epoch: 19.. \tTraining Loss: 21.36701.. \tValid Loss: 3.34113.. \tAccuracy: 75.00%..\n",
            "Epoch: 20.. \tTraining Loss: 21.56294.. \tValid Loss: 3.16392.. \tAccuracy: 78.33%..\n",
            "Saving Model 3.1820 ---> 3.1639\n",
            "Epoch: 21.. \tTraining Loss: 20.96862.. \tValid Loss: 3.20878.. \tAccuracy: 78.33%..\n",
            "Epoch: 22.. \tTraining Loss: 20.94224.. \tValid Loss: 3.16157.. \tAccuracy: 78.33%..\n",
            "Saving Model 3.1639 ---> 3.1616\n",
            "Epoch: 23.. \tTraining Loss: 20.81087.. \tValid Loss: 3.24291.. \tAccuracy: 75.00%..\n",
            "Epoch: 24.. \tTraining Loss: 21.23213.. \tValid Loss: 3.20683.. \tAccuracy: 76.67%..\n",
            "Epoch: 25.. \tTraining Loss: 21.61946.. \tValid Loss: 3.25083.. \tAccuracy: 78.33%..\n",
            "Epoch: 26.. \tTraining Loss: 20.65533.. \tValid Loss: 3.22436.. \tAccuracy: 75.00%..\n",
            "Epoch: 27.. \tTraining Loss: 20.83857.. \tValid Loss: 3.18244.. \tAccuracy: 76.67%..\n",
            "Epoch: 28.. \tTraining Loss: 21.20384.. \tValid Loss: 3.15664.. \tAccuracy: 76.67%..\n",
            "Saving Model 3.1616 ---> 3.1566\n",
            "Epoch: 29.. \tTraining Loss: 20.30247.. \tValid Loss: 3.21301.. \tAccuracy: 76.67%..\n",
            "Epoch: 30.. \tTraining Loss: 20.46748.. \tValid Loss: 3.16966.. \tAccuracy: 76.67%..\n",
            "Epoch: 31.. \tTraining Loss: 20.56902.. \tValid Loss: 3.13093.. \tAccuracy: 76.67%..\n",
            "Saving Model 3.1566 ---> 3.1309\n",
            "Epoch: 32.. \tTraining Loss: 21.25691.. \tValid Loss: 3.52876.. \tAccuracy: 70.00%..\n",
            "Epoch: 33.. \tTraining Loss: 20.73732.. \tValid Loss: 3.27029.. \tAccuracy: 73.33%..\n",
            "Epoch: 34.. \tTraining Loss: 20.50935.. \tValid Loss: 3.13869.. \tAccuracy: 78.33%..\n",
            "Epoch: 35.. \tTraining Loss: 20.62538.. \tValid Loss: 3.29699.. \tAccuracy: 75.00%..\n",
            "Epoch: 36.. \tTraining Loss: 20.89322.. \tValid Loss: 3.16437.. \tAccuracy: 76.67%..\n",
            "Epoch: 37.. \tTraining Loss: 20.24828.. \tValid Loss: 3.17680.. \tAccuracy: 78.33%..\n",
            "Epoch: 38.. \tTraining Loss: 20.03713.. \tValid Loss: 3.26916.. \tAccuracy: 75.00%..\n",
            "Epoch: 39.. \tTraining Loss: 20.28760.. \tValid Loss: 3.18142.. \tAccuracy: 75.00%..\n",
            "Epoch: 40.. \tTraining Loss: 20.15386.. \tValid Loss: 3.16598.. \tAccuracy: 80.00%..\n",
            "Epoch: 41.. \tTraining Loss: 20.15454.. \tValid Loss: 3.25886.. \tAccuracy: 76.67%..\n",
            "Epoch: 42.. \tTraining Loss: 21.19741.. \tValid Loss: 3.14762.. \tAccuracy: 80.00%..\n",
            "Epoch: 43.. \tTraining Loss: 20.09706.. \tValid Loss: 3.17527.. \tAccuracy: 80.00%..\n",
            "Epoch: 44.. \tTraining Loss: 20.07285.. \tValid Loss: 3.18157.. \tAccuracy: 78.33%..\n",
            "Epoch: 45.. \tTraining Loss: 19.99980.. \tValid Loss: 3.32770.. \tAccuracy: 75.00%..\n",
            "Epoch: 46.. \tTraining Loss: 19.55640.. \tValid Loss: 3.19881.. \tAccuracy: 75.00%..\n",
            "Epoch: 47.. \tTraining Loss: 20.18715.. \tValid Loss: 3.43996.. \tAccuracy: 73.33%..\n",
            "Epoch: 48.. \tTraining Loss: 20.21353.. \tValid Loss: 3.17283.. \tAccuracy: 78.33%..\n",
            "Epoch: 49.. \tTraining Loss: 20.34797.. \tValid Loss: 3.38787.. \tAccuracy: 73.33%..\n",
            "Epoch: 50.. \tTraining Loss: 20.56692.. \tValid Loss: 3.17094.. \tAccuracy: 76.67%..\n",
            "Epoch: 51.. \tTraining Loss: 20.01494.. \tValid Loss: 3.14787.. \tAccuracy: 76.67%..\n",
            "Epoch: 52.. \tTraining Loss: 19.68069.. \tValid Loss: 3.21171.. \tAccuracy: 76.67%..\n",
            "Epoch: 53.. \tTraining Loss: 19.64460.. \tValid Loss: 3.08230.. \tAccuracy: 80.00%..\n",
            "Saving Model 3.1309 ---> 3.0823\n",
            "Epoch: 54.. \tTraining Loss: 19.99598.. \tValid Loss: 3.20581.. \tAccuracy: 75.00%..\n",
            "Epoch: 55.. \tTraining Loss: 20.27271.. \tValid Loss: 3.07802.. \tAccuracy: 80.00%..\n",
            "Saving Model 3.0823 ---> 3.0780\n",
            "Epoch: 56.. \tTraining Loss: 19.50887.. \tValid Loss: 3.16475.. \tAccuracy: 78.33%..\n",
            "Epoch: 57.. \tTraining Loss: 19.83829.. \tValid Loss: 3.28305.. \tAccuracy: 71.67%..\n",
            "Epoch: 58.. \tTraining Loss: 19.52412.. \tValid Loss: 3.19476.. \tAccuracy: 75.00%..\n",
            "Epoch: 59.. \tTraining Loss: 19.72621.. \tValid Loss: 3.18107.. \tAccuracy: 78.33%..\n",
            "Epoch: 60.. \tTraining Loss: 19.77950.. \tValid Loss: 3.21401.. \tAccuracy: 80.00%..\n",
            "Epoch: 61.. \tTraining Loss: 19.54762.. \tValid Loss: 3.17200.. \tAccuracy: 76.67%..\n",
            "Epoch: 62.. \tTraining Loss: 19.56264.. \tValid Loss: 3.17643.. \tAccuracy: 78.33%..\n",
            "Epoch: 63.. \tTraining Loss: 19.70703.. \tValid Loss: 3.15724.. \tAccuracy: 76.67%..\n",
            "Epoch: 64.. \tTraining Loss: 19.14971.. \tValid Loss: 3.01754.. \tAccuracy: 80.00%..\n",
            "Saving Model 3.0780 ---> 3.0175\n",
            "Epoch: 65.. \tTraining Loss: 19.27365.. \tValid Loss: 3.02762.. \tAccuracy: 80.00%..\n",
            "Epoch: 66.. \tTraining Loss: 19.69962.. \tValid Loss: 3.25692.. \tAccuracy: 78.33%..\n",
            "Epoch: 67.. \tTraining Loss: 20.58827.. \tValid Loss: 3.40396.. \tAccuracy: 75.00%..\n",
            "Epoch: 68.. \tTraining Loss: 19.94103.. \tValid Loss: 3.15612.. \tAccuracy: 76.67%..\n",
            "Epoch: 69.. \tTraining Loss: 19.31721.. \tValid Loss: 3.04028.. \tAccuracy: 81.67%..\n",
            "Epoch: 70.. \tTraining Loss: 19.35635.. \tValid Loss: 3.14897.. \tAccuracy: 76.67%..\n",
            "Epoch: 71.. \tTraining Loss: 19.11183.. \tValid Loss: 3.15861.. \tAccuracy: 78.33%..\n",
            "Epoch: 72.. \tTraining Loss: 19.22474.. \tValid Loss: 3.64071.. \tAccuracy: 70.00%..\n",
            "Epoch: 73.. \tTraining Loss: 21.49641.. \tValid Loss: 3.05912.. \tAccuracy: 78.33%..\n",
            "Epoch: 74.. \tTraining Loss: 19.37456.. \tValid Loss: 2.95965.. \tAccuracy: 83.33%..\n",
            "Saving Model 3.0175 ---> 2.9596\n",
            "Epoch: 75.. \tTraining Loss: 19.68359.. \tValid Loss: 3.03138.. \tAccuracy: 78.33%..\n",
            "Epoch: 76.. \tTraining Loss: 19.06462.. \tValid Loss: 3.01536.. \tAccuracy: 81.67%..\n",
            "Epoch: 77.. \tTraining Loss: 18.92721.. \tValid Loss: 3.39538.. \tAccuracy: 75.00%..\n",
            "Epoch: 78.. \tTraining Loss: 19.45676.. \tValid Loss: 2.92173.. \tAccuracy: 81.67%..\n",
            "Saving Model 2.9596 ---> 2.9217\n",
            "Epoch: 79.. \tTraining Loss: 19.19212.. \tValid Loss: 3.06017.. \tAccuracy: 78.33%..\n",
            "Epoch: 80.. \tTraining Loss: 19.10289.. \tValid Loss: 3.23200.. \tAccuracy: 76.67%..\n",
            "Epoch: 81.. \tTraining Loss: 20.21040.. \tValid Loss: 3.03705.. \tAccuracy: 78.33%..\n",
            "Epoch: 82.. \tTraining Loss: 19.17813.. \tValid Loss: 3.06743.. \tAccuracy: 81.67%..\n",
            "Epoch: 83.. \tTraining Loss: 19.18266.. \tValid Loss: 2.98946.. \tAccuracy: 80.00%..\n",
            "Epoch: 84.. \tTraining Loss: 18.57901.. \tValid Loss: 3.04182.. \tAccuracy: 80.00%..\n",
            "Epoch: 85.. \tTraining Loss: 19.16041.. \tValid Loss: 3.17906.. \tAccuracy: 76.67%..\n",
            "Epoch: 86.. \tTraining Loss: 18.61721.. \tValid Loss: 3.62519.. \tAccuracy: 70.00%..\n",
            "Epoch: 87.. \tTraining Loss: 20.38293.. \tValid Loss: 2.98586.. \tAccuracy: 81.67%..\n",
            "Epoch: 88.. \tTraining Loss: 18.75835.. \tValid Loss: 2.89512.. \tAccuracy: 83.33%..\n",
            "Saving Model 2.9217 ---> 2.8951\n",
            "Epoch: 89.. \tTraining Loss: 18.57760.. \tValid Loss: 2.91541.. \tAccuracy: 83.33%..\n",
            "Epoch: 90.. \tTraining Loss: 18.85509.. \tValid Loss: 2.95412.. \tAccuracy: 81.67%..\n",
            "Epoch: 91.. \tTraining Loss: 18.58790.. \tValid Loss: 2.87627.. \tAccuracy: 83.33%..\n",
            "Saving Model 2.8951 ---> 2.8763\n",
            "Epoch: 92.. \tTraining Loss: 18.54298.. \tValid Loss: 2.89290.. \tAccuracy: 81.67%..\n",
            "Epoch: 93.. \tTraining Loss: 18.55670.. \tValid Loss: 3.00942.. \tAccuracy: 81.67%..\n",
            "Epoch: 94.. \tTraining Loss: 19.73263.. \tValid Loss: 3.11827.. \tAccuracy: 80.00%..\n",
            "Epoch: 95.. \tTraining Loss: 19.05489.. \tValid Loss: 3.10296.. \tAccuracy: 78.33%..\n",
            "Epoch: 96.. \tTraining Loss: 18.40099.. \tValid Loss: 2.93148.. \tAccuracy: 83.33%..\n",
            "Epoch: 97.. \tTraining Loss: 18.17885.. \tValid Loss: 2.97117.. \tAccuracy: 81.67%..\n",
            "Epoch: 98.. \tTraining Loss: 18.72416.. \tValid Loss: 3.01706.. \tAccuracy: 81.67%..\n",
            "Epoch: 99.. \tTraining Loss: 18.26141.. \tValid Loss: 2.99312.. \tAccuracy: 81.67%..\n",
            "Epoch: 100.. \tTraining Loss: 18.51469.. \tValid Loss: 2.96010.. \tAccuracy: 81.67%..\n"
          ]
        }
      ]
    },
    {
      "cell_type": "code",
      "source": [
        "ephs = np.array([i for i in range(epochs)])\n",
        "plt.figure(figsize = (12,12))\n",
        "plt.plot(ephs,np.array(training_losses),label = 'Training Loss')\n",
        "plt.plot(ephs,np.array(valid_losses),label = 'Validation Loss')\n",
        "plt.plot(ephs,np.array(accs),label = 'Validation Accuracy')\n",
        "plt.title('Training Data')\n",
        "plt.xlabel('Epochs')\n",
        "plt.legend()\n",
        "plt.show()"
      ],
      "metadata": {
        "id": "8XCFKx5xTJ4P",
        "colab": {
          "base_uri": "https://localhost:8080/",
          "height": 674
        },
        "outputId": "f69baa15-b093-4c0a-df74-6a97f2ef7fa3"
      },
      "execution_count": 88,
      "outputs": [
        {
          "output_type": "display_data",
          "data": {
            "text/plain": [
              "<Figure size 1200x1200 with 1 Axes>"
            ],
            "image/png": "[encoded data removed]"
          },
          "metadata": {}
        }
      ]
    },
    {
      "cell_type": "code",
      "source": [
        "total_correct = 0\n",
        "with torch.no_grad():\n",
        "  model.eval()\n",
        "  for x,y in test_loader:\n",
        "    x,y = x.to(device),y.to(device)\n",
        "    yhat = model(x)\n",
        "    # Find the top predicted class indices\n",
        "    top_p,top_class = yhat.topk(1,dim = 1)\n",
        "    # Check if the predicted classes match the true classes\n",
        "    # The view(-1, 1) is used to reshape y to have a single column\n",
        "    eq = top_class == y.view(-1,1)\n",
        "\n",
        "    #This line sums up the correct predictions across all examples in the batch.\n",
        "    total_correct += eq.sum().item()\n",
        "\n",
        "    #The topk(1) operation retrieves only the top 1 predicted value (and its corresponding index) for each example in the batch. It doesn't directly compare all predicted values with the actual values for all classes.\n",
        "\n",
        "    print(\"Predicted Value: {}..\\tConfidence: {:.4f}%..\\tTrue Value: {}..\".format(top_class.item(), top_p.item() * 100, y.item()))\n",
        "\n",
        "print()\n",
        "print()\n",
        "print(\"Score: {}/{}\".format(total_correct, len(test_data)))\n",
        "print(\"Percentage Correct: {:.2f}%\".format((total_correct / len(test_data)) * 100))"
      ],
      "metadata": {
        "colab": {
          "base_uri": "https://localhost:8080/"
        },
        "id": "M-TcOcNUdvGG",
        "outputId": "853ddda3-7c7f-4693-f182-0410574a88a8"
      },
      "execution_count": 93,
      "outputs": [
        {
          "output_type": "stream",
          "name": "stdout",
          "text": [
            "Predicted Value: 0..\tConfidence: 99.9993%..\tTrue Value: 0..\n",
            "Predicted Value: 0..\tConfidence: 100.0000%..\tTrue Value: 0..\n",
            "Predicted Value: 0..\tConfidence: 100.0000%..\tTrue Value: 0..\n",
            "Predicted Value: 0..\tConfidence: 99.0485%..\tTrue Value: 1..\n",
            "Predicted Value: 0..\tConfidence: 100.0000%..\tTrue Value: 0..\n",
            "Predicted Value: 0..\tConfidence: 100.0000%..\tTrue Value: 0..\n",
            "Predicted Value: 1..\tConfidence: 99.9464%..\tTrue Value: 1..\n",
            "Predicted Value: 0..\tConfidence: 99.9987%..\tTrue Value: 0..\n",
            "Predicted Value: 0..\tConfidence: 100.0000%..\tTrue Value: 0..\n",
            "Predicted Value: 1..\tConfidence: 99.9926%..\tTrue Value: 0..\n",
            "Predicted Value: 1..\tConfidence: 89.0761%..\tTrue Value: 1..\n",
            "Predicted Value: 0..\tConfidence: 99.9984%..\tTrue Value: 0..\n",
            "Predicted Value: 1..\tConfidence: 98.9059%..\tTrue Value: 1..\n",
            "Predicted Value: 1..\tConfidence: 96.5450%..\tTrue Value: 1..\n",
            "Predicted Value: 0..\tConfidence: 95.4433%..\tTrue Value: 0..\n",
            "Predicted Value: 0..\tConfidence: 99.0676%..\tTrue Value: 1..\n",
            "Predicted Value: 0..\tConfidence: 100.0000%..\tTrue Value: 0..\n",
            "Predicted Value: 1..\tConfidence: 97.0289%..\tTrue Value: 1..\n",
            "Predicted Value: 1..\tConfidence: 56.2351%..\tTrue Value: 1..\n",
            "Predicted Value: 0..\tConfidence: 100.0000%..\tTrue Value: 0..\n",
            "Predicted Value: 0..\tConfidence: 99.9631%..\tTrue Value: 0..\n",
            "Predicted Value: 0..\tConfidence: 100.0000%..\tTrue Value: 0..\n",
            "Predicted Value: 1..\tConfidence: 100.0000%..\tTrue Value: 1..\n",
            "Predicted Value: 0..\tConfidence: 100.0000%..\tTrue Value: 0..\n",
            "Predicted Value: 1..\tConfidence: 92.4322%..\tTrue Value: 0..\n",
            "Predicted Value: 1..\tConfidence: 100.0000%..\tTrue Value: 1..\n",
            "Predicted Value: 1..\tConfidence: 98.3324%..\tTrue Value: 0..\n",
            "Predicted Value: 0..\tConfidence: 100.0000%..\tTrue Value: 0..\n",
            "Predicted Value: 0..\tConfidence: 99.9727%..\tTrue Value: 0..\n",
            "Predicted Value: 0..\tConfidence: 99.9997%..\tTrue Value: 0..\n",
            "Predicted Value: 0..\tConfidence: 99.9359%..\tTrue Value: 0..\n",
            "Predicted Value: 1..\tConfidence: 97.9060%..\tTrue Value: 0..\n",
            "Predicted Value: 1..\tConfidence: 93.8890%..\tTrue Value: 1..\n",
            "Predicted Value: 1..\tConfidence: 100.0000%..\tTrue Value: 1..\n",
            "Predicted Value: 1..\tConfidence: 98.3855%..\tTrue Value: 0..\n",
            "Predicted Value: 0..\tConfidence: 94.3172%..\tTrue Value: 0..\n",
            "Predicted Value: 0..\tConfidence: 99.9677%..\tTrue Value: 0..\n",
            "Predicted Value: 1..\tConfidence: 100.0000%..\tTrue Value: 1..\n",
            "Predicted Value: 0..\tConfidence: 100.0000%..\tTrue Value: 0..\n",
            "Predicted Value: 0..\tConfidence: 100.0000%..\tTrue Value: 0..\n",
            "Predicted Value: 1..\tConfidence: 99.9987%..\tTrue Value: 1..\n",
            "Predicted Value: 0..\tConfidence: 100.0000%..\tTrue Value: 0..\n",
            "Predicted Value: 0..\tConfidence: 99.9293%..\tTrue Value: 0..\n",
            "Predicted Value: 0..\tConfidence: 100.0000%..\tTrue Value: 0..\n",
            "Predicted Value: 1..\tConfidence: 98.4899%..\tTrue Value: 1..\n",
            "Predicted Value: 1..\tConfidence: 99.8893%..\tTrue Value: 1..\n",
            "Predicted Value: 0..\tConfidence: 99.9983%..\tTrue Value: 0..\n",
            "Predicted Value: 1..\tConfidence: 99.9976%..\tTrue Value: 0..\n",
            "Predicted Value: 1..\tConfidence: 99.9991%..\tTrue Value: 1..\n",
            "Predicted Value: 1..\tConfidence: 99.1091%..\tTrue Value: 1..\n",
            "Predicted Value: 0..\tConfidence: 100.0000%..\tTrue Value: 0..\n",
            "Predicted Value: 1..\tConfidence: 99.9982%..\tTrue Value: 1..\n",
            "Predicted Value: 0..\tConfidence: 100.0000%..\tTrue Value: 0..\n",
            "Predicted Value: 0..\tConfidence: 100.0000%..\tTrue Value: 0..\n",
            "Predicted Value: 1..\tConfidence: 99.6430%..\tTrue Value: 1..\n",
            "Predicted Value: 0..\tConfidence: 100.0000%..\tTrue Value: 0..\n",
            "Predicted Value: 0..\tConfidence: 100.0000%..\tTrue Value: 0..\n",
            "Predicted Value: 1..\tConfidence: 99.9977%..\tTrue Value: 1..\n",
            "\n",
            "\n",
            "Score: 50/58\n",
            "Percentage Correct: 86.21%\n"
          ]
        }
      ]
    },
    {
      "cell_type": "code",
      "source": [],
      "metadata": {
        "id": "mBbKeFOgk8Uv"
      },
      "execution_count": null,
      "outputs": []
    }
  ]
}